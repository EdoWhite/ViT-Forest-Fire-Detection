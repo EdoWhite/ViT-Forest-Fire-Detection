{
 "cells": [
  {
   "attachments": {},
   "cell_type": "markdown",
   "metadata": {},
   "source": [
    "# Smoke & Fire Detection in Forest Environment\n",
    "Wildfires or forest fires are **unpredictable catastrophic and destructive events** that affect rural areas. The impact of these events affects both **vegetation and wildlife**. In this project, we propose an application to **detect smoke and/or fire in forest environments**. In particular, we can imagine a setup in which webcams, drones, or other recording devices take pictures of a wild environment every t seconds or minutes. The proposed system is then able to **classify the current situation** as *normal*, *smoke*, or *fire*. The system is not real-time since wildfires are events that evolve more slowly than others (e.g., traffic accidents)."
   ]
  },
  {
   "attachments": {},
   "cell_type": "markdown",
   "metadata": {},
   "source": [
    "## Introduction\n",
    "According to the European Forest Fire Report [1] the 2021 fire season in Europe, Middle East and North Africa was the worst ever recorded in terms of area affected by fires. A total of 500,566 hectares (ha) burned, and Italy is reported to be the most affected country. Early fire detection in rural and remote areas is a challenge, even with the help of sensors, but it would allow authorities to be alerted in time and limit damage and burned areas.\n",
    "\n",
    "Some related works include [2] which proposes a method to detect active fires and burning biomass from satellite images (Landsat-8 dataset). In [3] they propose a UAV platform for the pur- pose of forest fire detection. They developed a small-scale convolutional neural network (CNN) implemented with the help of YOLOv3. Fire is detected in an object-detection fashion. In [4] they used video frames with fire taken from CCTV in combination with a CNN. The dataset was self built by researchers."
   ]
  },
  {
   "attachments": {},
   "cell_type": "markdown",
   "metadata": {},
   "source": [
    "## Proposed Solutions\n",
    "The proposed system consists of **two main solutions**. In the first solution we design, train, and evaluate a **custom CNN**. Regarding the second solution, we will fine-tune a pretrained **vision transformer**, the Google ViT [9], hosted on the Hugging Face Hub [8]. Results are logged and proposed through WanDB [7]. The performance of the two solutions will be compared and different aspects will be discussed.\n",
    "\n",
    "The framework used for this experiment is PyTorch with the PyTorch Lightning Module. The final web application to showcase the model is written in Python using the Streamlit library and hosted on the Hugging Face Hub."
   ]
  },
  {
   "attachments": {},
   "cell_type": "markdown",
   "metadata": {},
   "source": [
    "## Data Sources\n",
    "The dataset used in this project is **self-built** by merging two **datasets from Kaggle**. In particular, we used samples from ”train_fire” and ”train_smoke” from [5], and all the samples (mixed together from further splitting) from [6].\n",
    "\n",
    "The final dataset consists of **2525 samples for each of the three classification classes** (fire, smoke, normal). This dataset will be then split into train, validation, and test sets. The images in the dataset depict **fires of different magnitude**, **from different perspectives** (aerial, far, near) thus **simulating images from different devices**, such as webcams and drones."
   ]
  },
  {
   "attachments": {},
   "cell_type": "markdown",
   "metadata": {},
   "source": [
    "## 0. Importing Tools"
   ]
  },
  {
   "attachments": {},
   "cell_type": "markdown",
   "metadata": {},
   "source": [
    "We start by importing the necessary tools for both the solution proposed."
   ]
  },
  {
   "cell_type": "code",
   "execution_count": 1,
   "metadata": {},
   "outputs": [],
   "source": [
    "# GENERAL\n",
    "import math\n",
    "import os\n",
    "import splitfolders\n",
    "import numpy as np\n",
    "# PYTORCH\n",
    "import torch\n",
    "from torch import optim, nn, utils, Tensor\n",
    "from torch.utils.data import random_split,  DataLoader\n",
    "from torch.optim.lr_scheduler import LambdaLR\n",
    "import torch.nn as nn\n",
    "import torch.nn.functional as F\n",
    "# TORCHMETRICS & TORCHVISION & TORCHSUMMARY\n",
    "import torchmetrics\n",
    "from torchvision import datasets, transforms\n",
    "from torchvision.transforms import Compose, Normalize, Resize, ToTensor, RandAugment\n",
    "from torchsummary import summary\n",
    "# LIGHTNING MODULE\n",
    "import pytorch_lightning as pl\n",
    "from pytorch_lightning.loggers import WandbLogger\n",
    "from pytorch_lightning.callbacks import LearningRateMonitor, RichProgressBar\n",
    "# HUGGINGFACE UTILITIES\n",
    "from datasets import load_dataset\n",
    "import evaluate\n",
    "from transformers import ViTFeatureExtractor, ViTForImageClassification, TrainingArguments, Trainer\n",
    "# PLOTTING & LOGGING\n",
    "import matplotlib as plt\n",
    "import matplotlib.pyplot as plt\n",
    "from matplotlib.pyplot import imshow\n",
    "from sklearn.metrics import confusion_matrix, ConfusionMatrixDisplay\n",
    "import wandb"
   ]
  },
  {
   "attachments": {},
   "cell_type": "markdown",
   "metadata": {},
   "source": [
    "## 1. Prepare and Organize Data on Disk"
   ]
  },
  {
   "attachments": {},
   "cell_type": "markdown",
   "metadata": {},
   "source": [
    "The first operation consists in **preparing the train, validation, and test sets** starting from a **collection of labeled images**. The following code uses the `splitfolders` module to split the data located in the `./RawFireData/` directory. The data is split in the ratio of **80% for training, 10% for testing, and 10% for validation**. The split is done using a random seed of 42 to ensure reproducibility. The data is not moved from its original location but copied into a new direcotry, named `./FireData/`."
   ]
  },
  {
   "cell_type": "code",
   "execution_count": null,
   "metadata": {},
   "outputs": [],
   "source": [
    "# Split data into train, test, val\n",
    "if not os.path.isdir(\"./FireData\"):\n",
    "    splitfolders.ratio(\"./RawFireData/\", output=\"./FireData/\", seed=42, ratio=(.8, .1, .1), move=False)\n",
    "else:\n",
    "    print(\"Files are present on the disk!\")"
   ]
  },
  {
   "attachments": {},
   "cell_type": "markdown",
   "metadata": {},
   "source": [
    "## 2. First Approach: A Custom CNN"
   ]
  },
  {
   "attachments": {},
   "cell_type": "markdown",
   "metadata": {},
   "source": [
    "In this section, we propose a **solution based on a custom Convolutional Neural Network (CNN) architecture** for the classification of fire and smoke in wild environments. The solution is developed using the **PyTorch Lightning module**, which allows for **efficient and organized implementation** of the network. The solution includes a custom **data module** to handle the input data and a custom **network module** to define the CNN architecture. The results are logged using the WanDB, which provides a platform to track and analyze the performance of machine learning experiments.\n",
    "\n",
    "**Convolutional Neural Networks** (CNNs) are a type of deep learning model widely used for **image-related tasks**, such as image classification, object detection, and segmentation. They are designed to **process and analyze grid-like structures**, such as images, by using a series of convolutional and pooling operations to **extract and process features** from the input.\n",
    "\n",
    "The key features of a CNN include:\n",
    "- **Convolutional layers**: these layers apply a set of filters to the input image, producing feature maps that capture specific patterns and features in the image.\n",
    "- **Pooling layers**: these layers down-sample the feature maps, reducing the spatial size and computational cost of the network while retaining important information.\n",
    "- **Non-linear activation functions**: these functions introduce non-linearities into the network, allowing it to learn complex relationships between the input and output.\n",
    "- **Fully connected layers**: these layers take the processed features from the convolutional and pooling layers and use them to make a prediction about the class of the input image.\n",
    "\n",
    "Overall, CNNs are **highly effective for image-related tasks** and have achieved state-of-the-art results on many benchmark datasets."
   ]
  },
  {
   "attachments": {},
   "cell_type": "markdown",
   "metadata": {},
   "source": [
    "### 2.1 General training parameters"
   ]
  },
  {
   "attachments": {},
   "cell_type": "markdown",
   "metadata": {},
   "source": [
    "Before starting the experiment, we define some general parameters. The choice of learning rate and batch size is not arbitrary but **guided by results of several previous experiments**."
   ]
  },
  {
   "cell_type": "code",
   "execution_count": 2,
   "metadata": {},
   "outputs": [],
   "source": [
    "# Define general parameters\n",
    "batch_size = 32\n",
    "img_height = 224\n",
    "img_width = 224\n",
    "learning_rate = 0.001\n",
    "epochs = 20\n",
    "num_classes = 3"
   ]
  },
  {
   "attachments": {},
   "cell_type": "markdown",
   "metadata": {},
   "source": [
    "### 2.2 Define the Data Module"
   ]
  },
  {
   "attachments": {},
   "cell_type": "markdown",
   "metadata": {},
   "source": [
    "Before designing the network, we define our **data module**, `FireDataModule`, that inherits from the `LightningDataModule` class belonging to the PyTorch Lightning library. The class has several methods:\n",
    "- The `__init__` method sets up the class with values for the `path`, `batch_size`, `img_height`, and `img_width` attributes. It also sets up the `prepare_data_per_node` and `_log_hyperparams` attributes.\n",
    "\n",
    "- The `prepare_data` method is used to download and process data, but it is not implemented in this code.\n",
    "\n",
    "- The `setup` method performs the **data processing and preparation**. It creates a set of transformation using the `Compose` method from the `torchvision` library. In addition to **resizing** and **normalization**, we also apply a set of **random augmentation operations**, with `RandAugment`[10]. Images are then **converted into Tensors**. Based on the stage argument, the `setup` method prepares the train, validation, and test datasets using the `ImageFolder` method from the `torchvision.datasets` library.\n",
    "\n",
    "- The `train_dataloader`, `val_dataloader`, `test_dataloader`, and `predict_dataloader` methods create **PyTorch data loaders** for the train, validation, test, and predict sets, respectively. These data loaders are used to **load the data in batches**."
   ]
  },
  {
   "cell_type": "code",
   "execution_count": 3,
   "metadata": {},
   "outputs": [],
   "source": [
    "# Define the PyTorch Lightning Data Module\n",
    "class FireDataModule(pl.LightningDataModule):\n",
    "    def __init__(self, path=\"./FireData\", batch_size=32, img_height=250, img_width=250):\n",
    "        self.batch_size = batch_size\n",
    "        self.img_height = img_height\n",
    "        self.img_width = img_width\n",
    "        self.PATH = path\n",
    "        self.prepare_data_per_node = False\n",
    "        self._log_hyperparams = False\n",
    "        \n",
    "    def prepare_data(self):\n",
    "        #download, tokenize, ecc\n",
    "        pass\n",
    "\n",
    "    def setup(self, stage=None):\n",
    "        # Set transformations\n",
    "        train_transform = Compose([Resize((self.img_height, self.img_width)),\n",
    "                                RandAugment(num_ops=2, magnitude=9),\n",
    "                                ToTensor(),\n",
    "                                Normalize(0.5, 0.5)\n",
    "                               ])\n",
    "\n",
    "        val_transform = Compose([Resize((self.img_height, self.img_width)),\n",
    "                                ToTensor(),\n",
    "                                Normalize(0.5, 0.5)\n",
    "                                ])\n",
    "        # Assign train/val datasets for use in dataloaders\n",
    "        # the stage is used in the Pytorch Lightning trainer method, which you can call as fit (training, evaluation) or test\n",
    "        # also you can use it for predict, not implemented here\n",
    "        if stage == \"fit\" or stage is None:\n",
    "            data_dir = self.PATH + '/train' \n",
    "            self.train =  datasets.ImageFolder(data_dir, transform=train_transform)\n",
    "            data_dir = self.PATH + '/val' \n",
    "            self.validate = datasets.ImageFolder(data_dir, transform=val_transform)\n",
    "\n",
    "        # Assign test dataset for use in dataloader(s)\n",
    "        if stage == \"test\" or stage is None:\n",
    "            data_dir = self.PATH + '/test' \n",
    "            self.test = datasets.ImageFolder(data_dir, transform=val_transform)\n",
    "            \n",
    "    # Define dataloaders\n",
    "    def train_dataloader(self):\n",
    "        return DataLoader(self.train, batch_size=self.batch_size, shuffle=True, num_workers=10)\n",
    "\n",
    "    def val_dataloader(self):\n",
    "        return DataLoader(self.validate, batch_size=self.batch_size, shuffle=False, num_workers=10)\n",
    "\n",
    "    def test_dataloader(self):\n",
    "        return DataLoader(self.test, batch_size=self.batch_size, shuffle=False, num_workers=10)\n",
    "\n",
    "    def predict_dataloader(self):\n",
    "        return DataLoader(self.test, batch_size=self.batch_size, shuffle=False, num_workers=10)"
   ]
  },
  {
   "attachments": {},
   "cell_type": "markdown",
   "metadata": {},
   "source": [
    "### 2.3 Define the Network Module"
   ]
  },
  {
   "attachments": {},
   "cell_type": "markdown",
   "metadata": {},
   "source": [
    "After the data module, we define a **custom CNN** implemented as a PyTorch Lightning module. The module extends the `LightningModule` class from the PyTorch Lightning library, which is a high-level library for PyTorch. \n",
    "\n",
    "- In the class definition, the `__init__` method sets up several important components of the model: 1) **Initializes the hyperparameters** learning_rate and num_classes that are passed as arguments to the constructor; 2) Defines a set of **metrics** to evaluate the performance of the model during training, validation, and testing. The metrics include accuracy, precision, recall, and F1-score, and are defined using the torchmetrics library. The metrics are **kept separate** for training, validation, and testing with different prefixes for each set; 3) Defines the **architecture** of the CNN, in combination with `forward`.\n",
    "\n",
    "- The `loss_fn` method defines the **loss function** to use for training. In this case, it's using the **cross-entropy loss**.\n",
    "\n",
    "- The `training_step` method implements the **logic for a single training step**. It takes a batch of data, makes a forward pass through the network to get the logits, calculates the loss using the `loss_fn` method, and logs the loss and the training metrics for the batch.\n",
    "\n",
    "- The `validation_step` method implements the **logic for a single validation step**. It takes a batch of validation data, makes a forward pass through the network to get the logits, calculates the loss using the `loss_fn` method, and logs the loss and the validation metrics for the batch.\n",
    "\n",
    "- The `test_step` method is similar to the `validation_step` method but logs the results with the test prefix.\n",
    "\n",
    "- The `prediction_step` method returns the **probabilities of belonging to each of the three classes** given a batch of data.\n",
    "\n",
    "- The `configure_optimizers` method defines the **optimizer and the LR scheduler** to use for training, which in this case are the **AdamW** optimizer with an **exponential learning rate scheduler**.\n",
    "\n",
    "**Network Architecture:**\n",
    "- The first convolutional layer has **64 filters** with a **kernel size of 9** and a **stride of 2**. It takes in 3 channel input images and applies the filters to generate 64 feature maps. The first batch normalization layer **normalizes the output** from the first convolutional layer. The first pooling layer performs **max pooling** with a kernel size of 3. The architecture includes **two more pairs of convolution, normalization and pooling layers**. The final two convolutional layers have **128 filters** each, with a **kernel size of 3**, and **stride and padding of 1**. The final flattening layer **flattens the output** of the fourth convolutional layer into a 1D vector. The first fully connected layer has **1024 output units** and the final layer outputs **3 class scores**, which are passed through a **softmax function** to generate class probabilities. The activation function used in the network is **Scaled Exponential Linear Unit (SELU)** and **dropout** is applied after some layers with a probability of 0.1 or 0.5.\n",
    "- Dilatations allow to increase the receptive field without increasing the number of parameters.\n",
    "- The SELU activation function perform a self normalization, so leads to faster convergence [12]. SELU also avoid vanishing gradients (like ReLU and the dead ReLU problem).\n",
    "\n",
    "**Loss Function:**\n",
    "- The loss function is the Cross Entropy Loss.\n",
    "\n",
    "**Optimizer:**\n",
    "- AdamW with betas=(0.9, 0.999), eps=1e-08, weight_decay=0.01\n",
    "\n",
    "**Learning Rate Scheduler:**\n",
    "- Exponential learning rate scheduler with gamma=0.9\n",
    "\n",
    "**Metrics:**\n",
    "- The metrics include Accuracy, Precision, Recall, and F1 Score. They are all multi-class metrics, with weighted average over the classes."
   ]
  },
  {
   "cell_type": "code",
   "execution_count": 4,
   "metadata": {},
   "outputs": [],
   "source": [
    "# Define the PyTorch Lightning Network Module, that is the custom CNN\n",
    "class fireDec(pl.LightningModule):\n",
    "    def __init__(self, learning_rate, num_classes):\n",
    "        self.lr=learning_rate\n",
    "        self.num_classes = num_classes\n",
    "        super().__init__()\n",
    "        # Define metrics\n",
    "        metrics = torchmetrics.MetricCollection({\n",
    "            'acc' : torchmetrics.Accuracy(task=\"multiclass\", num_classes=self.num_classes, average=\"weighted\"),\n",
    "            'prec' : torchmetrics.Precision(task=\"multiclass\", num_classes=self.num_classes, average=\"weighted\"),\n",
    "            'rec' : torchmetrics.Recall(task=\"multiclass\", num_classes=self.num_classes, average=\"weighted\"),\n",
    "            'F1' : torchmetrics.F1Score(task=\"multiclass\", num_classes=self.num_classes, average=\"weighted\")\n",
    "        })\n",
    "\n",
    "        self.train_metrics = metrics.clone(prefix='train_')\n",
    "        self.val_metrics = metrics.clone(prefix='val_')\n",
    "        self.test_metrics = metrics.clone(prefix='test_')\n",
    "\n",
    "        # Define the custom network\n",
    "        self.conv1 = nn.Conv2d(in_channels=3, out_channels=64, kernel_size=9, stride=2, padding=1, dilation=1)\n",
    "        self.bn1 = nn.BatchNorm2d(64)\n",
    "        self.pool1 = nn.MaxPool2d(kernel_size=3)\n",
    "\n",
    "        self.conv2 = nn.Conv2d(in_channels=64, out_channels=128, kernel_size=5, stride=1, padding=2, dilation=3)\n",
    "        self.bn2 = nn.BatchNorm2d(128)\n",
    "        self.pool2 = nn.MaxPool2d(kernel_size=3)\n",
    "\n",
    "        self.conv3 = nn.Conv2d(in_channels=128, out_channels=256, kernel_size=3, stride=1, padding=2, dilation=2)\n",
    "        self.bn3 = nn.BatchNorm2d(256)\n",
    "\n",
    "        self.conv4 = nn.Conv2d(in_channels=256, out_channels=128, kernel_size=3, stride=1, padding=2, dilation=2)\n",
    "        self.bn4 = nn.BatchNorm2d(128)\n",
    "\n",
    "        self.flat = nn.Flatten()\n",
    "\n",
    "        self.fc1 = nn.Linear(in_features=12800, out_features=1024)\n",
    "        self.fc2 = nn.Linear(in_features=1024, out_features=3)\n",
    "\n",
    "    def forward(self, x):\n",
    "        x = self.pool1(F.selu(self.bn1(self.conv1(x))))\n",
    "        x = F.dropout(x, 0.1)\n",
    "\n",
    "        x = self.pool2(F.selu(self.bn2(self.conv2(x))))\n",
    "        x = F.dropout(x, 0.1)\n",
    "\n",
    "        x = F.selu(self.bn3(self.conv3(x)))\n",
    "        x = F.selu(self.bn4(self.conv4(x)))\n",
    "        x = F.dropout(x, 0.1)\n",
    "\n",
    "        x = self.flat(x)\n",
    "\n",
    "        x = F.selu(self.fc1(x))\n",
    "        x = F.dropout(x, 0.5)\n",
    "\n",
    "        x = F.softmax(self.fc2(x), dim=1)\n",
    "        return x\n",
    "\n",
    "    # Define the loss function\n",
    "    def loss_fn(self, logits, y):\n",
    "        loss = nn.CrossEntropyLoss()\n",
    "        return loss(logits, y)\n",
    "\n",
    "    # Define the training step\n",
    "    def training_step(self, batch, batch_idx):\n",
    "        x, y = batch\n",
    "        logits = self.forward(x)\n",
    "        loss = self.loss_fn(logits,y)\n",
    "        #self.metrics.update(logits, y)\n",
    "\n",
    "        self.log('train_loss', loss, on_epoch=True, on_step=False, prog_bar=True)\n",
    "        self.log_dict(self.train_metrics(logits, y), on_step=False, on_epoch=True, prog_bar=True)\n",
    "        return loss\n",
    "\n",
    "    # Define the validation step\n",
    "    def validation_step(self, val_batch, batch_idx):\n",
    "        x, y = val_batch\n",
    "        logits = self.forward(x)\n",
    "        loss = self.loss_fn(logits, y)\n",
    "        #self.metrics.update(logits, y)\n",
    "        self.log('val_loss', loss, on_epoch=True, on_step=False, prog_bar=True)\n",
    "        self.log_dict(self.val_metrics(logits, y), on_step=False, on_epoch=True, prog_bar=True)\n",
    "        return loss\n",
    "\n",
    "    # Define the test step\n",
    "    def test_step(self, test_batch, batch_idx):\n",
    "        x, y = test_batch\n",
    "        logits = self.forward(x)\n",
    "        loss = self.loss_fn(logits, y)\n",
    "        #self.metrics.update(logits, y)\n",
    "        self.log('test_loss', loss, on_epoch=True, on_step=False, prog_bar=True)\n",
    "        self.log_dict(self.test_metrics(logits, y), on_step=False, on_epoch=True, prog_bar=True)\n",
    "        return loss\n",
    "    \n",
    "    # Define the predict step\n",
    "    def predict_step(self, pred_batch, batch_idx, dataloader_idx=0):\n",
    "        x, y = pred_batch\n",
    "        logits = self.forward(x)\n",
    "        return logits.softmax(dim=-1)\n",
    "\n",
    "    # Define the Optimizer and the LR scheduler\n",
    "    def configure_optimizers(self):\n",
    "        opt1 = optim.Adam(self.parameters(), lr=self.lr, betas=(0.9, 0.999), eps=1e-08, weight_decay=0.01)\n",
    "        optimizers = [opt1]\n",
    "        lr_schedulers = {\"scheduler\": optim.lr_scheduler.ExponentialLR(optimizer=opt1, gamma=0.9), \"interval\": \"epoch\"}\n",
    "        return optimizers, lr_schedulers\n",
    "\n",
    "    # Define the scheduler step\n",
    "    def lr_scheduler_step(self, scheduler, optimizer_idx, metric):\n",
    "        scheduler.step()"
   ]
  },
  {
   "attachments": {},
   "cell_type": "markdown",
   "metadata": {},
   "source": [
    "The `summary` module gives us a compact but detailed representation of the **network structure and paramters**. In particular, this CNN has a total of **13,923,203 trainable paramters**."
   ]
  },
  {
   "cell_type": "code",
   "execution_count": 5,
   "metadata": {},
   "outputs": [
    {
     "name": "stdout",
     "output_type": "stream",
     "text": [
      "----------------------------------------------------------------\n",
      "        Layer (type)               Output Shape         Param #\n",
      "================================================================\n",
      "            Conv2d-1         [-1, 64, 122, 122]          15,616\n",
      "       BatchNorm2d-2         [-1, 64, 122, 122]             128\n",
      "         MaxPool2d-3           [-1, 64, 40, 40]               0\n",
      "            Conv2d-4          [-1, 128, 32, 32]         204,928\n",
      "       BatchNorm2d-5          [-1, 128, 32, 32]             256\n",
      "         MaxPool2d-6          [-1, 128, 10, 10]               0\n",
      "            Conv2d-7          [-1, 256, 10, 10]         295,168\n",
      "       BatchNorm2d-8          [-1, 256, 10, 10]             512\n",
      "            Conv2d-9          [-1, 128, 10, 10]         295,040\n",
      "      BatchNorm2d-10          [-1, 128, 10, 10]             256\n",
      "          Flatten-11                [-1, 12800]               0\n",
      "           Linear-12                 [-1, 1024]      13,108,224\n",
      "           Linear-13                    [-1, 3]           3,075\n",
      "================================================================\n",
      "Total params: 13,923,203\n",
      "Trainable params: 13,923,203\n",
      "Non-trainable params: 0\n",
      "----------------------------------------------------------------\n",
      "Input size (MB): 0.72\n",
      "Forward/backward pass size (MB): 18.11\n",
      "Params size (MB): 53.11\n",
      "Estimated Total Size (MB): 71.93\n",
      "----------------------------------------------------------------\n"
     ]
    }
   ],
   "source": [
    "# Display the summary of the custom CNN\n",
    "summary(fireDec(learning_rate=learning_rate, num_classes=3), (3,250,250))"
   ]
  },
  {
   "attachments": {},
   "cell_type": "markdown",
   "metadata": {},
   "source": [
    "In order to **log the prediction results** of the model we define custom callback. This class logs the prediction results, in the form of sample images, to the Weights & Biases (WanDB) dashboard. The class is defined as a subclass of PyTorch Lightning's Callback class and overrides its `on_validation_epoch_end` and `on_test_epoch_end methods`.\n",
    "\n",
    "In the constructor, it takes three arguments:\n",
    "\n",
    "- `val_samples`: A tuple of validation images and their corresponding labels.\n",
    "- `test_samples`: A tuple of test images and their corresponding labels.\n",
    "- `num_samples`: The number of sample images to be logged (defaults to 32).\n",
    "\n",
    "The `on_validation_epoch_end` method is called at the end of each validation epoch, and it **logs the model's predictions on the validation set** to the W&B dashboard. The validation images and labels are moved to the same device as the model and passed through the model to get its predictions. The predictions are then converted to class indices using the `torch.argmax` function. The sample images along with their corresponding predictions and actual labels are then logged as a W&B Image to the dashboard.\n",
    "\n",
    "The `on_test_epoch_end` method works similarly, but **logs the model's predictions on the test set** instead of the validation set."
   ]
  },
  {
   "cell_type": "code",
   "execution_count": 6,
   "metadata": {},
   "outputs": [],
   "source": [
    "# Define a callback to log samples images in the WanDB board\n",
    "class ImagePredictionLogger(pl.callbacks.Callback):\n",
    "    def __init__(self, val_samples, test_samples, num_samples=32):\n",
    "        super().__init__()\n",
    "        self.num_samples = num_samples\n",
    "        self.val_imgs, self.val_labels = val_samples\n",
    "        self.test_imgs, self.test_labels = test_samples\n",
    "    \n",
    "    def on_validation_epoch_end(self, trainer, pl_module):\n",
    "        # Bring the tensors to CPU\n",
    "        val_imgs = self.val_imgs.to(device=pl_module.device)\n",
    "        val_labels = self.val_labels.to(device=pl_module.device)\n",
    "        # Get model prediction\n",
    "        logits = pl_module(val_imgs)\n",
    "        preds = torch.argmax(logits, -1)\n",
    "        # Log the images as wandb Image\n",
    "        trainer.logger.experiment.log({\n",
    "            \"VALIDATION\":[wandb.Image(x, caption=f\"Pred:{pred}, Label:{y}\") \n",
    "                           for x, pred, y in zip(val_imgs[:self.num_samples], \n",
    "                                                 preds[:self.num_samples], \n",
    "                                                 val_labels[:self.num_samples])]\n",
    "            })\n",
    "\n",
    "    def on_test_epoch_end(self, trainer, pl_module):\n",
    "        # Bring the tensors to CPU\n",
    "        test_imgs = self.test_imgs.to(device=pl_module.device)\n",
    "        test_labels = self.test_labels.to(device=pl_module.device)\n",
    "        # Get model prediction\n",
    "        logits = pl_module(test_imgs)\n",
    "        preds = torch.argmax(logits, -1)\n",
    "        # Log the images as wandb Image\n",
    "        trainer.logger.experiment.log({\n",
    "            \"TEST\":[wandb.Image(x, caption=f\"Pred:{pred}, Label:{y}\") \n",
    "                            for x, pred, y in zip(test_imgs[:self.num_samples], \n",
    "                                                    preds[:self.num_samples], \n",
    "                                                    test_labels[:self.num_samples])]\n",
    "            })"
   ]
  },
  {
   "attachments": {},
   "cell_type": "markdown",
   "metadata": {},
   "source": [
    "### 2.4 Train & Evaluate the Network with WanDB Logger and LR Finder"
   ]
  },
  {
   "attachments": {},
   "cell_type": "markdown",
   "metadata": {},
   "source": [
    "Before training the network there are some necessary operations to carry out. In particular, we need to **load and setup the dataset**. We also **plot some sample images** from the training set, to see the effects of the random augmentation.\n",
    "\n",
    "The `prepare_data` method is called to load the data and perform any necessary processing, and the `setup` method is called to set up the data for use with a PyTorch Lightning model."
   ]
  },
  {
   "cell_type": "code",
   "execution_count": 7,
   "metadata": {},
   "outputs": [],
   "source": [
    "# Define the newtork, prepare the data and setup\n",
    "dm = FireDataModule(path=\"./FireData\", batch_size=32, img_height=250, img_width=250)\n",
    "dm.prepare_data()\n",
    "dm.setup()"
   ]
  },
  {
   "cell_type": "code",
   "execution_count": 8,
   "metadata": {},
   "outputs": [
    {
     "data": {
      "text/plain": [
       "['Fire', 'Normal', 'Smoke']"
      ]
     },
     "execution_count": 8,
     "metadata": {},
     "output_type": "execute_result"
    }
   ],
   "source": [
    "# Load the samples (that will be used to visluaze the images and for the WanDB board callback)\n",
    "train_samples = next(iter(dm.train_dataloader()))\n",
    "val_samples = next(iter(dm.val_dataloader()))\n",
    "test_samples = next(iter(dm.test_dataloader()))\n",
    "\n",
    "class_names = dm.train.classes\n",
    "class_names"
   ]
  },
  {
   "cell_type": "code",
   "execution_count": null,
   "metadata": {},
   "outputs": [],
   "source": [
    "# Define a function to plot some samples and respective labels\n",
    "def plotSamples(samples, class_names, figsize=(30,30)):\n",
    "    imgs, labels = samples[0], samples[1]\n",
    "    plt.figure(figsize=(30, 30))\n",
    "    for i in range(8):\n",
    "        ax = plt.subplot(10, 4, i+1)\n",
    "        plt.imshow(imgs[i].permute(1,2,0))\n",
    "        plt.title('Class:'+class_names[labels[i]])\n",
    "        plt.axis('off')\n",
    "        plt.grid(True)\n",
    "\n",
    "plotSamples(train_samples, class_names)"
   ]
  },
  {
   "attachments": {},
   "cell_type": "markdown",
   "metadata": {},
   "source": [
    "<figure>\n",
    "<img src=\"./IMG/CNN_samples.png\" style=\"width:2200px;display: block;margin-left: auto;margin-right: auto;\">\n",
    "<figcaption align = \"center\">Some of the training samples. As can be seen, augmentation operations were performed.</figcaption>\n",
    "</figure>"
   ]
  },
  {
   "attachments": {},
   "cell_type": "markdown",
   "metadata": {},
   "source": [
    "At this point, we can start the **training and evaluation phase**. First, we start the WanDB logging session, then we instanciate the custom CNN network. The model is then set up with a PyTorch Lightning Trainer, using a GPU accelerator and setting all the required parameters. We make also use of the `tuner` fuctionality provided by `Trainer` in order to find a suggested learnin rate.\n",
    "\n",
    "Please note that:\n",
    "- The trainer has a `LearningRateMonitor` callback, an `ImagePredictionLogger` callback, and a `RichProgressBar` callback. \n",
    "- The **learning rate finder** functionality is run to get a **suggested learning rate** and the model's hyperparameters are updated accordingly. A plot represents the suggested learning rate and reports the tested values.\n",
    "- The model is then **trained using the data module** and finally, the trainer **tests the model using the test data**. Training and evaluation results are reported."
   ]
  },
  {
   "cell_type": "code",
   "execution_count": null,
   "metadata": {},
   "outputs": [],
   "source": [
    "# Setup the WanDB logger\n",
    "wandb_logger = WandbLogger(project='fireDet_custom_CNN', job_type='train')\n",
    "\n",
    "# Instanciate the model and define the PyTorch Lightning Trainer, set LR monitor callback, setup the trainer\n",
    "model = fireDec(learning_rate=learning_rate,  num_classes=3)\n",
    "lr_monitor = LearningRateMonitor(logging_interval='step')\n",
    "trainer = pl.Trainer(max_epochs=epochs, accelerator=\"mps\", devices=1, logger=wandb_logger, enable_model_summary=False, auto_lr_find=True, callbacks=[lr_monitor, \n",
    "                                                                                                                                            ImagePredictionLogger(val_samples, test_samples),\n",
    "                                                                                                                                            RichProgressBar()])\n",
    "\n",
    "# Run learning rate finder, get a suggestion and update the model hparam\n",
    "lr_finder = trainer.tuner.lr_find(model, datamodule=dm, num_training=100)\n",
    "fig = lr_finder.plot(suggest=True)\n",
    "fig.show()\n",
    "new_lr = lr_finder.suggestion()\n",
    "print(\"SUGGESTED LR: \" + str(new_lr))\n",
    "model = fireDec(learning_rate=new_lr, num_classes=3)\n",
    "\n",
    "# Train and evaluate the model\n",
    "trainer.fit(model=model, datamodule=dm)\n",
    "trainer.test(dataloaders=dm.test_dataloader())\n",
    "\n",
    "# End the logging session\n",
    "wandb.finish()"
   ]
  },
  {
   "attachments": {},
   "cell_type": "markdown",
   "metadata": {},
   "source": [
    "The following image shows the plot with the suggested learning rate and reports all the values about model performance.\n",
    "<figure>\n",
    "<img src=\"./IMG/CNN_LR_Summary.png\" style=\"width:1000px;display: block;margin-left: auto;margin-right: auto;\">\n",
    "<figcaption align = \"center\">The output of the learning rate finder (left); Performance of the CNN model (right)</figcaption>\n",
    "</figure>"
   ]
  },
  {
   "attachments": {},
   "cell_type": "markdown",
   "metadata": {},
   "source": [
    "The following image shows the report generated using the WanDB logger.\n",
    "<figure>\n",
    "<img src=\"./IMG/CNN_stats.png\" style=\"width:1000px;display: block;margin-left: auto;margin-right: auto;\">\n",
    "<figcaption align = \"center\">The report obtained from WanDB logger.</figcaption>\n",
    "</figure>"
   ]
  },
  {
   "attachments": {},
   "cell_type": "markdown",
   "metadata": {},
   "source": [
    "### 2.5 Confusion Matrix of Results"
   ]
  },
  {
   "attachments": {},
   "cell_type": "markdown",
   "metadata": {},
   "source": [
    "After the traing and evaluation phases, we can use of the `predict` method to **get predictions** on the test set and **build a confusion matrix**."
   ]
  },
  {
   "cell_type": "code",
   "execution_count": null,
   "metadata": {},
   "outputs": [],
   "source": [
    "# Getting prediction from the test set\n",
    "test_loader = dm.test_dataloader()\n",
    "outputs = trainer.predict(model, test_loader)"
   ]
  },
  {
   "cell_type": "code",
   "execution_count": 12,
   "metadata": {},
   "outputs": [
    {
     "data": {
      "text/plain": [
       "<sklearn.metrics._plot.confusion_matrix.ConfusionMatrixDisplay at 0x171bdc730>"
      ]
     },
     "execution_count": 12,
     "metadata": {},
     "output_type": "execute_result"
    },
    {
     "data": {
      "image/png": "[encoded data removed]",
      "text/plain": [
       "<Figure size 640x480 with 2 Axes>"
      ]
     },
     "metadata": {},
     "output_type": "display_data"
    }
   ],
   "source": [
    "# Compute and visualize the confusion matrix with results from the trained model\n",
    "preds, true_labels = [], []\n",
    "for res in outputs:\n",
    "    preds.extend(res.argmax(1).tolist())\n",
    "\n",
    "for data in test_loader:\n",
    "    true_labels.extend(data[1].tolist())\n",
    "\n",
    "labels = ['Fire', 'Normal', 'Smoke']\n",
    "cm = confusion_matrix(true_labels, preds)\n",
    "disp = ConfusionMatrixDisplay(confusion_matrix=cm, display_labels=labels)\n",
    "disp.plot(xticks_rotation=45)"
   ]
  },
  {
   "attachments": {},
   "cell_type": "markdown",
   "metadata": {},
   "source": [
    "### 2.6 Discussion"
   ]
  },
  {
   "attachments": {},
   "cell_type": "markdown",
   "metadata": {},
   "source": [
    "In this section we defined and trained a CNN for image classification. Overall model performance is not bad with precision hitting 0.99 and recall 0.97. However, the network **still makes mistakes**: in 12 cases a **dangerous situation (fire) was classified as normal**. This, in an application scenario, could lead to **failure to alert the emergency services** in time. Conversely, in 9 cases a **normal situation was reported as dangerous (fire)**. Although this error has a lower cost (a false alarm is better than an unreported fire) it would be good to limit both. \n",
    "\n",
    "Considerations for **possible improvements** are given at the end of the report, in the section \"Final Remarks & Future Work\""
   ]
  },
  {
   "attachments": {},
   "cell_type": "markdown",
   "metadata": {},
   "source": [
    "## 3. Second Approach: ViT Vision Transformer"
   ]
  },
  {
   "attachments": {},
   "cell_type": "markdown",
   "metadata": {},
   "source": [
    "In this section, we propose a **transformer-based solution** for the classification of fire and smoke in wild environments. In particular, we **fine-tune the pre-trained Google Vision Transformer** [9]. This fine-tuning process **adjusts the weights of the model to the specific downstream task** of fire and smoke classification.\n",
    "\n",
    "Vision Transformers are a type of deep learning model that have recently achieved **state-of-the-art results** on a variety of computer vision tasks, including image classification, object detection, and segmentation. They are based on the **transformer architecture**, which was originally developed for **natural language processing** tasks.\n",
    "\n",
    "The key features of vision transformers include:\n",
    "- **Self-attention mechanism**: this mechanism allows the model to attend to different regions of the input image in parallel, producing a global representation of the image. Self-attention allows the model to **focus on the most relevant regions** of the input and capture complex relations between different input parts.\n",
    "- **Multi-head attention**: this mechanism allows the model to attend to different aspects of the input image, improving its ability to capture complex relationships.\n",
    "- **Positional encoding**: this encoding allows the model to incorporate the spatial structure of the input image, even though the model does not explicitly use convolutional or pooling operations.\n",
    "\n",
    "In order to make experimental **data open and accessible**, we will upload the custom-made dataset to the **Hugging Face Hub**. The final fine-tuned model will also be uploaded and made availbale on the Hugging Face Hub. \n",
    "\n",
    "Since (vision) transformers are complex architectures, we followed some of the advice presented in [11].\n"
   ]
  },
  {
   "attachments": {},
   "cell_type": "markdown",
   "metadata": {},
   "source": [
    "<figure>\n",
    "<img src=\"./IMG/ViT_Architecture.png\" style=\"width:700px;display: block;margin-left: auto;margin-right: auto;\">\n",
    "<figcaption align = \"center\">The structure of ViT, image from [11] </figcaption>\n",
    "</figure>"
   ]
  },
  {
   "attachments": {},
   "cell_type": "markdown",
   "metadata": {},
   "source": [
    "### 3.1 General Training Parameters"
   ]
  },
  {
   "attachments": {},
   "cell_type": "markdown",
   "metadata": {},
   "source": [
    "As in the first solution, we set some **general parameters** and specify the correct to device to train with the M1 chip performance."
   ]
  },
  {
   "cell_type": "code",
   "execution_count": 2,
   "metadata": {},
   "outputs": [],
   "source": [
    "# Set the device to Apple Silicon M1 chip\n",
    "device = torch.device('mps')"
   ]
  },
  {
   "cell_type": "code",
   "execution_count": 3,
   "metadata": {},
   "outputs": [],
   "source": [
    "# Define general parameters\n",
    "batch_size = 32\n",
    "img_height = 224\n",
    "img_width = 224\n",
    "learning_rate = 2e-4\n",
    "epochs = 10\n",
    "num_classes = 3"
   ]
  },
  {
   "attachments": {},
   "cell_type": "markdown",
   "metadata": {},
   "source": [
    "### 3.2 Get the Data"
   ]
  },
  {
   "attachments": {},
   "cell_type": "markdown",
   "metadata": {},
   "source": [
    "Since the final model will be uploaded on the HF Model Hub, it's also good to **upload on the Hub the dataset used**. This instructions load the data from the disk and push upload them to the HF Data Hub. This operation is to execute only once.\n",
    "\n",
    "`dataset = load_dataset(\"imagefolder\", data_dir=\"./FireData\", drop_labels=False)`\n",
    "\n",
    "`dataset.push_to_hub(\"EdBianchi/SmokeFire\")`\n",
    "\n",
    "Since the dataset is now online, we can simply load it with `load_dataset()`. In this way, **the dataset is in the format required in order to use the pre-trained model** from Hugging Face."
   ]
  },
  {
   "cell_type": "code",
   "execution_count": null,
   "metadata": {},
   "outputs": [],
   "source": [
    "# Download the dataset from the Hub\n",
    "ds = load_dataset(\"EdBianchi/SmokeFire\")\n",
    "ds"
   ]
  },
  {
   "cell_type": "code",
   "execution_count": 5,
   "metadata": {},
   "outputs": [
    {
     "name": "stdout",
     "output_type": "stream",
     "text": [
      "Label: 0\n"
     ]
    },
    {
     "data": {
      "image/png": "[encoded data removed]",
      "text/plain": [
       "<PIL.JpegImagePlugin.JpegImageFile image mode=RGB size=183x275>"
      ]
     },
     "execution_count": 5,
     "metadata": {},
     "output_type": "execute_result"
    }
   ],
   "source": [
    "# Pick a sample from the dataset\n",
    "ex = ds['train'][667]\n",
    "print(\"Label: \" + str(ex['label']))\n",
    "ex['image']"
   ]
  },
  {
   "attachments": {},
   "cell_type": "markdown",
   "metadata": {},
   "source": [
    "### 3.3 Data Preprocessing"
   ]
  },
  {
   "attachments": {},
   "cell_type": "markdown",
   "metadata": {},
   "source": [
    "Since we are using a specific pre-trained model, we need also the **correct pre-trained feature extractor**. The feature extractor is used to ensure that the paramters that we will use for the fine-tuning operation are **the same used during the pre-training phase**."
   ]
  },
  {
   "cell_type": "code",
   "execution_count": 6,
   "metadata": {},
   "outputs": [],
   "source": [
    "# Define the model to use and the feature extractor\n",
    "model_name = 'google/vit-base-patch16-224-in21k'\n",
    "feature_extractor = ViTFeatureExtractor.from_pretrained(model_name)"
   ]
  },
  {
   "cell_type": "code",
   "execution_count": 7,
   "metadata": {},
   "outputs": [
    {
     "data": {
      "text/plain": [
       "torch.Size([1, 3, 224, 224])"
      ]
     },
     "execution_count": 7,
     "metadata": {},
     "output_type": "execute_result"
    }
   ],
   "source": [
    "# Print shape of the tensor of a sample image\n",
    "sample_tensor = feature_extractor(ex['image'], return_tensors='pt')\n",
    "sample_tensor['pixel_values'].shape"
   ]
  },
  {
   "attachments": {},
   "cell_type": "markdown",
   "metadata": {},
   "source": [
    "As for the custom CNN, we define some **image pre-processing** steps for both training and validation data. In particular, the `train_transforms` and `val_transforms` functions take in a batch of images and apply **resizing**, **tensor conversion**, and **normalization** to each image in the batch. We apply random augmentations to the train set, using RandAugment[10]. The transformed images are then stored as `pixel_values` in the batch."
   ]
  },
  {
   "cell_type": "code",
   "execution_count": 8,
   "metadata": {},
   "outputs": [],
   "source": [
    "# Define a normalizer\n",
    "normalize = Normalize(mean=feature_extractor.image_mean, std=feature_extractor.image_std)\n",
    "\n",
    "# Define the transformation to apply to the images from train and val samples\n",
    "_train_transforms = Compose(\n",
    "        [\n",
    "            Resize((feature_extractor.size['width'],feature_extractor.size['height'])),\n",
    "            RandAugment(num_ops=2, magnitude=9),\n",
    "            ToTensor(),\n",
    "            normalize\n",
    "        ]\n",
    "    )\n",
    "\n",
    "_val_transforms = Compose(\n",
    "        [\n",
    "            Resize((feature_extractor.size['width'],feature_extractor.size['height'])),\n",
    "            ToTensor(),\n",
    "            normalize\n",
    "        ]\n",
    "    )\n",
    "\n",
    "# Define the actual function that applies the transformations to the samples\n",
    "def train_transforms(batch):\n",
    "    batch['pixel_values'] = [_train_transforms(x.convert(\"RGB\")) for x in batch['image']]\n",
    "    return batch\n",
    "\n",
    "def val_transforms(batch):\n",
    "    batch['pixel_values'] = [_val_transforms(x.convert(\"RGB\")) for x in batch['image']]\n",
    "    return batch"
   ]
  },
  {
   "cell_type": "code",
   "execution_count": 9,
   "metadata": {},
   "outputs": [],
   "source": [
    "# Apply the transformations to the samples. Note that the set_transform() functions modifies in-place.\n",
    "ds['train'].set_transform(train_transforms)\n",
    "ds['validation'].set_transform(val_transforms)\n",
    "ds['test'].set_transform(val_transforms)"
   ]
  },
  {
   "attachments": {},
   "cell_type": "markdown",
   "metadata": {},
   "source": [
    "### 3.4 Define Data Collator and Evaluation Metrics"
   ]
  },
  {
   "attachments": {},
   "cell_type": "markdown",
   "metadata": {},
   "source": [
    "Next, we define a **custom collate function** to use in the PyTorch DataLoader. This function **takes in a batch of data**, which is a list of dictionaries each containing `pixel_values` and `labels` as keys. It **returns a dictionary containing two tensors** `pixel_values` and `labels`, which are created by **stacking** the `pixel_values` from each dictionary in the batch and creating a tensor from the `labels` from each dictionary in the batch, respectively."
   ]
  },
  {
   "cell_type": "code",
   "execution_count": 10,
   "metadata": {},
   "outputs": [],
   "source": [
    "# Define the data collator\n",
    "def collate_fn(batch):\n",
    "    return {\n",
    "        'pixel_values': torch.stack([x['pixel_values'] for x in batch]),\n",
    "        'labels': torch.tensor([x['label'] for x in batch])\n",
    "    }"
   ]
  },
  {
   "attachments": {},
   "cell_type": "markdown",
   "metadata": {},
   "source": [
    "As for the CNN, we want to measure **precision** and **recall** as performance metrics. The `compute_metrics` function loads the two metrics from the `evaluate` library. It then converts the predictions from a 2D tensor to a 1D numpy array, and extracts the corresponding label ids. The precision and recall values are computed using the `compute` method from each metric. Precision and recall values are then **returned as a dictionary** with the keys \"precision\" and \"recall\"."
   ]
  },
  {
   "cell_type": "code",
   "execution_count": 11,
   "metadata": {},
   "outputs": [],
   "source": [
    "# Define the function that will compute precision and recall (metrics)\n",
    "def compute_metrics(eval_pred):\n",
    "    metric1 = evaluate.load(\"precision\")\n",
    "    metric2 = evaluate.load(\"recall\")\n",
    "    preds = np.argmax(eval_pred.predictions, axis=1)\n",
    "    labels = eval_pred.label_ids\n",
    "\n",
    "    precision = metric1.compute(predictions=preds, references=labels, average=\"weighted\")[\"precision\"]\n",
    "    recall = metric2.compute(predictions=preds, references=labels, average=\"weighted\")[\"recall\"]\n",
    "\n",
    "    return {\"precision\": precision, \"recall\": recall}"
   ]
  },
  {
   "attachments": {},
   "cell_type": "markdown",
   "metadata": {},
   "source": [
    "### 3.5 Download, Fine-Tune, and Evaluate the Model"
   ]
  },
  {
   "attachments": {},
   "cell_type": "markdown",
   "metadata": {},
   "source": [
    "We now **instanciate a pre-trained Vision Transformer** (ViT) model for image classification from the **Hugging Face Transformers library**. The `model_name` variable specifies the name of the pre-trained ViT model (and checkpoint) to be used. The `num_labels` argument sets the number of classes in the target variable, which is set to `num_classes`. The `id2label` and `label2id` dictionaries map the class label indices to their corresponding class names and vice versa. Finally, the model is moved to the MPS (Metal Performance Shaders) device."
   ]
  },
  {
   "cell_type": "code",
   "execution_count": null,
   "metadata": {},
   "outputs": [],
   "source": [
    "# Load a pretrained model --> vit-base-patch16-224-in21k and define classes and labels\n",
    "model = ViTForImageClassification.from_pretrained(\n",
    "    model_name,\n",
    "    num_labels = num_classes,\n",
    "    id2label = {0:'Fire', 1:'Normal', 2:'Smoke'},\n",
    "    label2id = {'Fire':0, 'Normal':1, 'Smoke':2})\n",
    "\n",
    "model.to(device)"
   ]
  },
  {
   "attachments": {},
   "cell_type": "markdown",
   "metadata": {},
   "source": [
    "Another important step is to **define the training arguments**. This is done with `TrainingArguments`. The model is set to use the device with MPS with a batch size of `batch_size` for both training and evaluation. The output of the training will be saved in the directory `./vit-fire-detection` and the training will run for `epochs` epochs. The logging will be done every 50 steps and the model will be saved every epoch, with a total limit of 1 saved model. The training will start with a **warm-up period** of 100 steps.\n",
    "\n",
    "We adopt the **AdamW optimizer** with `betas` as (0.9,0.999), `epsilon` as 1e-8, and `weight_decay` as 0.01. A **linear LR scheduler** is employed by default."
   ]
  },
  {
   "cell_type": "code",
   "execution_count": 13,
   "metadata": {},
   "outputs": [],
   "source": [
    "# default uses adamW optimizer\n",
    "training_args = TrainingArguments(\n",
    "  use_mps_device=True,\n",
    "  output_dir=\"./vit-fire-detection\",\n",
    "  per_device_train_batch_size=batch_size,\n",
    "  per_device_eval_batch_size=batch_size,\n",
    "  evaluation_strategy=\"epoch\",\n",
    "  save_strategy=\"epoch\",\n",
    "  logging_steps=50,\n",
    "  num_train_epochs=epochs,\n",
    "\n",
    "  learning_rate=learning_rate,\n",
    "  weight_decay=0.01,\n",
    "  adam_beta1=0.9,\n",
    "  adam_beta2=0.999,\n",
    "  adam_epsilon=1e-8,\n",
    "  warmup_steps=100,\n",
    "\n",
    "  save_total_limit=1,\n",
    "  remove_unused_columns=False,\n",
    "  push_to_hub=\"end\", #set to \"end\" and call save_model()\n",
    "  report_to=None,\n",
    "  load_best_model_at_end=True\n",
    ")"
   ]
  },
  {
   "attachments": {},
   "cell_type": "markdown",
   "metadata": {},
   "source": [
    "A `Trainer` is instantiated using the defined `model`, `training_args`, `collate_fn` as the data collator, `compute_metrics` for evaluation, and the `train_dataset` and `eval_dataset` as the train and validation datasets, respectively. The `tokenizer` is also passed as the feature extractor."
   ]
  },
  {
   "cell_type": "code",
   "execution_count": null,
   "metadata": {},
   "outputs": [],
   "source": [
    "# Define the Trainer and set the parameters\n",
    "trainer = Trainer(\n",
    "    model=model,\n",
    "    args=training_args,\n",
    "    data_collator=collate_fn,\n",
    "    compute_metrics=compute_metrics,\n",
    "    train_dataset=ds[\"train\"],\n",
    "    eval_dataset=ds[\"validation\"],\n",
    "    tokenizer=feature_extractor\n",
    ")"
   ]
  },
  {
   "attachments": {},
   "cell_type": "markdown",
   "metadata": {},
   "source": [
    "At this point, we can **train and evaluate the model**, logging the procedure using WanDB. After the training step, the model is evaluated against the test set."
   ]
  },
  {
   "cell_type": "code",
   "execution_count": null,
   "metadata": {},
   "outputs": [],
   "source": [
    "# Traine the model logging metrics and reporting to WanDB.\n",
    "train_results = trainer.train()\n",
    "trainer.log_metrics(\"train\", train_results.metrics)\n",
    "trainer.log_metrics(\"eval\", train_results.metrics)\n",
    "wandb.finish()"
   ]
  },
  {
   "attachments": {},
   "cell_type": "markdown",
   "metadata": {},
   "source": [
    "The following image reports all the values about model performance and training history.\n",
    "<figure>\n",
    "<img src=\"./IMG/ViT_summary.png\" style=\"width:1000px;display: block;margin-left: auto;margin-right: auto;\">\n",
    "<figcaption align = \"center\">Training history of ViT and model performance</figcaption>\n",
    "</figure>"
   ]
  },
  {
   "attachments": {},
   "cell_type": "markdown",
   "metadata": {},
   "source": [
    "The following image shows the report generated using the WanDB logger.\n",
    "<figure>\n",
    "<img src=\"./IMG/ViT_stats.png\" style=\"width:1000px;display: block;margin-left: auto;margin-right: auto;\">\n",
    "<figcaption align = \"center\">The report obtained from WanDB logger.</figcaption>\n",
    "</figure>"
   ]
  },
  {
   "cell_type": "code",
   "execution_count": null,
   "metadata": {},
   "outputs": [],
   "source": [
    "# Evaluate the trained model\n",
    "outputs = trainer.predict(ds['test'])\n",
    "print(outputs.metrics)"
   ]
  },
  {
   "attachments": {},
   "cell_type": "markdown",
   "metadata": {},
   "source": [
    "As for the custom CNN, we use the predictions and the label to build and plot a **consufion matrix**."
   ]
  },
  {
   "cell_type": "code",
   "execution_count": 17,
   "metadata": {},
   "outputs": [
    {
     "data": {
      "text/plain": [
       "<sklearn.metrics._plot.confusion_matrix.ConfusionMatrixDisplay at 0x2fe745040>"
      ]
     },
     "execution_count": 17,
     "metadata": {},
     "output_type": "execute_result"
    },
    {
     "data": {
      "image/png": "[encoded data removed]",
      "text/plain": [
       "<Figure size 640x480 with 2 Axes>"
      ]
     },
     "metadata": {},
     "output_type": "display_data"
    }
   ],
   "source": [
    "# Compute and visualize the confusion matrix with results from the trained model\n",
    "y_true = outputs.label_ids\n",
    "y_pred = outputs.predictions.argmax(1)\n",
    "\n",
    "labels = ['Fire', 'Normal', 'Smoke']\n",
    "cm = confusion_matrix(y_true, y_pred)\n",
    "disp = ConfusionMatrixDisplay(confusion_matrix=cm, display_labels=labels)\n",
    "disp.plot(xticks_rotation=45)"
   ]
  },
  {
   "attachments": {},
   "cell_type": "markdown",
   "metadata": {},
   "source": [
    "### 3.6 Upload the Fine-Tuned Model to the Hub"
   ]
  },
  {
   "attachments": {},
   "cell_type": "markdown",
   "metadata": {},
   "source": [
    "With a simple instruction is it possible to **upload the fine-tuned model to the Hugging Face Hub**. The model is available at this link: <https://huggingface.co/EdBianchi/vit-fire-detection>"
   ]
  },
  {
   "cell_type": "code",
   "execution_count": null,
   "metadata": {},
   "outputs": [],
   "source": [
    "# Upload the model to the Hub to make it accesible and public\n",
    "trainer.save_model()"
   ]
  },
  {
   "attachments": {},
   "cell_type": "markdown",
   "metadata": {},
   "source": [
    "### 3.7 Use the Model with HF Pipeline"
   ]
  },
  {
   "attachments": {},
   "cell_type": "markdown",
   "metadata": {},
   "source": [
    "Once a model is uploaded to the hub, it can be **used extremely easily**. This example shows how to use the model we have trained, classifying an image."
   ]
  },
  {
   "cell_type": "code",
   "execution_count": null,
   "metadata": {},
   "outputs": [],
   "source": [
    "from transformers import pipeline\n",
    "from PIL import Image\n",
    "\n",
    "image = Image.open(\"./APP/fog.jpeg\")\n",
    "pipeline = pipeline(task=\"image-classification\", model=\"EdBianchi/vit-fire-detection\")\n",
    "predictions = pipeline(image)"
   ]
  },
  {
   "cell_type": "code",
   "execution_count": 20,
   "metadata": {},
   "outputs": [
    {
     "data": {
      "text/plain": [
       "[{'score': 0.9969803690910339, 'label': 'Normal'},\n",
       " {'score': 0.0027111759409308434, 'label': 'Fire'},\n",
       " {'score': 0.00030844550929032266, 'label': 'Smoke'}]"
      ]
     },
     "execution_count": 20,
     "metadata": {},
     "output_type": "execute_result"
    }
   ],
   "source": [
    "predictions"
   ]
  },
  {
   "attachments": {},
   "cell_type": "markdown",
   "metadata": {},
   "source": [
    "The following image, `fog.jpeg`, has been **correctly classified** by the model as \"normal\", depicts a fog situation and not a smoke situation. This means that the model has learned to **distinguish basic features** not only of a fire situation, but also of a smoke situation, which is more complicated (e.g., fog could be misclassified as smoke).\n",
    "<figure>\n",
    "<img src=\"./APP/fog.jpeg\" style=\"width:400px;display: block;margin-left: auto;margin-right: auto;\">\n",
    "<figcaption align = \"center\">A sample correctly image classified by the model</figcaption>\n",
    "</figure>"
   ]
  },
  {
   "attachments": {},
   "cell_type": "markdown",
   "metadata": {},
   "source": [
    "## 4. Discussion\n",
    "We trained the ViT for only 10 epochs, due to the long training time required. The overall performance of the model is good, but the network **still makes a few mistakes**: in 4 cases a **fire situation was classified as normal**. This, in an application scenario, could lead to **failure to alert the emergency services** in time. Choosing the right learning rate was the real challenge here: we had to test several values before finding one that maximizes the performance of the model.\n",
    "\n",
    "Considerations for **possible improvements** are given at the end of the report, in the section \"Final Remarks & Future Work\"."
   ]
  },
  {
   "attachments": {},
   "cell_type": "markdown",
   "metadata": {},
   "source": [
    "## 5. Streamlit WebApp to Showcase the Model"
   ]
  },
  {
   "attachments": {},
   "cell_type": "markdown",
   "metadata": {},
   "source": [
    "To showcase the final model, we developed a simple web application, available at <https://huggingface.co/spaces/EdBianchi/Forest-Fire-Detection> The demo allows the user to upload an image and predict if there is a smoke, fire or normal situation. We report here a screenshot of the GUI.\n",
    "\n",
    "<figure>\n",
    "<img src=\"./IMG/WebApp.png\" style=\"width:700px;display: block;margin-left: auto;margin-right: auto;\">\n",
    "<figcaption align = \"center\">The web application used to test and showcase the model</figcaption>\n",
    "</figure>\n"
   ]
  },
  {
   "attachments": {},
   "cell_type": "markdown",
   "metadata": {},
   "source": [
    "## 6. Final Remarks & Future Work"
   ]
  },
  {
   "attachments": {},
   "cell_type": "markdown",
   "metadata": {},
   "source": [
    "In this project we proposed **two solutions** to the same problem using **different technologies**. I tried to cover many of the topics covered in the course and apply what I learned in order to solve a **real-world problem**. Both solutions work well, and an interactive demo allows to see the **ViT model at work**.\n",
    "\n",
    "As future work, we would like to train both models for **more epochs**, test **different activation** functions, and try a **different scheduler** for ViT.\n",
    "\n",
    "Another point to investigate is the data **augmentation phase**: the main question is whether in this application domain data augmentation operations \"distort\" the semantics of the images.\n",
    "\n",
    "I conclude keeping in my mind that *\"All models are wrong, but some are useful\"*, i hope these can be useful ones.\n",
    "\n",
    "Edoardo Bianchi - 20740"
   ]
  },
  {
   "attachments": {},
   "cell_type": "markdown",
   "metadata": {},
   "source": [
    "## References\n",
    "[1] European forest fire report: Three of the worst fire seasons on record took place in the last six years[J]. 2022.\n",
    "\n",
    "[2] Pennazza G, Seydi S T, Saeidi V, et al. Fire-net: A deep learning framework for active forest fire detection[J]. Journal of Sensors, 2022, 2022: 8044390. http://dx.doi.org/10.1155/2022/ 8044390.\n",
    "\n",
    "[3] Jiao Z, Zhang Y, Xin J, et al. A deep learning based forest fire detection approach using uav and yolov3.\n",
    "\n",
    "[4] Vadakkadathu Rajan G, Paul S. Forest fire detection using machine learning[J]. 2022.\n",
    "\n",
    "[5] KUTLU K. Forest fire dataset on kaggle[EB/OL]. https://www.kaggle.com/datasets/kutaykutlu/forest-fire?select=train_fire.\n",
    "\n",
    "[6] PRASAD M S. Forest fire images dataset on kaggle[EB/OL]. https://www.kaggle.com/datasets/mohnishsaiprasad/forest-fire-images. \n",
    "\n",
    "[7] Biewald L. Experiment tracking with weights and biases. Software available from wandb.com.\n",
    "\n",
    "[8] Hugging face[EB/OL]. https://huggingface.co.\n",
    "\n",
    "[9] B. Wu et al., Visual Transformers: Token-based Image Representation and Processing for Computer Vision. arXiv, 2020. doi: 10.48550/ARXIV.2006.03677.\n",
    "\n",
    "[10] E. D. Cubuk, B. Zoph, J. Shlens, and Q. V. Le, RandAugment: Practical automated data augmentation with a reduced search space. arXiv, 2019. doi: 10.48550/ARXIV.1909.13719.\n",
    "\n",
    "[11] A. Steiner, A. Kolesnikov, X. Zhai, R. Wightman, J. Uszkoreit, and L. Beyer, “How to train your ViT? Data, Augmentation, and Regularization in Vision Transformers,” 2021, doi: 10.48550/ARXIV.2106.10270.\n",
    "\n",
    "[12] A. Nguyen, K. Pham, D. Ngo, T. Ngo, and L. Pham, An Analysis of State-of-the-art Activation Functions For Supervised Deep Neural Network. arXiv, 2021. doi: 10.48550/ARXIV.2104.02523."
   ]
  }
 ],
 "metadata": {
  "kernelspec": {
   "display_name": "Python 3",
   "language": "python",
   "name": "python3"
  },
  "language_info": {
   "codemirror_mode": {
    "name": "ipython",
    "version": 3
   },
   "file_extension": ".py",
   "mimetype": "text/x-python",
   "name": "python",
   "nbconvert_exporter": "python",
   "pygments_lexer": "ipython3",
   "version": "3.8.12"
  },
  "orig_nbformat": 4,
  "vscode": {
   "interpreter": {
    "hash": "c03b177c35db13f24209bdf9fef27ead8b5eeb38b2fe0f41bed77a06ac9b3ea9"
   }
  }
 },
 "nbformat": 4,
 "nbformat_minor": 2
}
